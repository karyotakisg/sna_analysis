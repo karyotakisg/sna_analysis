{
 "cells": [
  {
   "cell_type": "code",
   "execution_count": 1,
   "metadata": {},
   "outputs": [],
   "source": [
    "import pandas as pd\n",
    "import regex as re"
   ]
  },
  {
   "cell_type": "code",
   "execution_count": 2,
   "metadata": {},
   "outputs": [],
   "source": [
    "df = pd.read_csv('data/nodes.csv')"
   ]
  },
  {
   "cell_type": "code",
   "execution_count": 3,
   "metadata": {},
   "outputs": [
    {
     "name": "stdout",
     "output_type": "stream",
     "text": [
      "Software\n",
      "False    19446\n",
      "True      3847\n",
      "Name: count, dtype: int64\n",
      "ProgrammingLanguages\n",
      "False    22339\n",
      "True       954\n",
      "Name: count, dtype: int64\n",
      "Academics\n",
      "False    19493\n",
      "True      3800\n",
      "Name: count, dtype: int64\n",
      "ITFields\n",
      "False    21531\n",
      "True      1762\n",
      "Name: count, dtype: int64\n"
     ]
    }
   ],
   "source": [
    "filters = {\n",
    "    'Software': r'\\b(software|coding|developer|engineer|programmer|application|technology|IT|tech|cloud|database|testing|cybersecurity|automation)\\b',\n",
    "    \n",
    "    'ProgrammingLanguages': r'\\b(python|java|javascript|C\\+\\+|ruby|scala|go|typescript|swift|perl|bash|shell|sql|R|kotlin|haskell|matlab|fortran|php|html|css|assembly|objective-c|TensorFlow|Pytorch)\\b',\n",
    "    \n",
    "    'Academics': r'\\b(professor|researcher|computer science|data science|student|teacher|academic|scholar|phd|lecturer|university|instructor|scientist|alumni|education|postdoc|faculty|tutor)\\b',\n",
    "    \n",
    "    'ITFields': r'\\b(machine learning|artificial intelligence|AI|cloud computing|blockchain|big data|IoT|cybersecurity|DevOps|data analysis|automation|networking|robotics|software testing|virtual reality|AR|VR|web development|UI/UX|backend|frontend|fullstack|database administration|ML)\\b'\n",
    "}\n",
    "\n",
    "\n",
    "# Apply each filter to create new columns\n",
    "for key, regex in filters.items():\n",
    "    df[key] = df['Description'].apply(lambda x: bool(re.search(regex, str(x), re.IGNORECASE)))\n",
    "    print(df[key].value_counts())"
   ]
  }
 ],
 "metadata": {
  "kernelspec": {
   "display_name": "Python 3",
   "language": "python",
   "name": "python3"
  },
  "language_info": {
   "codemirror_mode": {
    "name": "ipython",
    "version": 3
   },
   "file_extension": ".py",
   "mimetype": "text/x-python",
   "name": "python",
   "nbconvert_exporter": "python",
   "pygments_lexer": "ipython3",
   "version": "3.10.11"
  }
 },
 "nbformat": 4,
 "nbformat_minor": 2
}
